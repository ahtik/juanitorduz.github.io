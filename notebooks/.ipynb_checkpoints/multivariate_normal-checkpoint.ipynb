{
 "cells": [
  {
   "cell_type": "markdown",
   "metadata": {},
   "source": [
    "In this post I want to describe how to sample from a multivariate normal distribution following section [\n",
    "A.2 Gaussian Identities](http://www.gaussianprocess.org/gpml/chapters/RWA.pdf) of the book [Gaussian Processes for Machine Learning](http://www.gaussianprocess.org/gpml/chapters/). This is a first step towards exploring and understanding Gaussian Process methods in machine learning. "
   ]
  },
  {
   "cell_type": "markdown",
   "metadata": {},
   "source": [
    "## Multivariate Normal Distribution "
   ]
  },
  {
   "cell_type": "markdown",
   "metadata": {},
   "source": [
    "[Recall](https://en.wikipedia.org/wiki/Multivariate_normal_distribution) that a random vector \\\\(X = (X_1, \\cdots, X_d)\\\\) has a *multivariate normal (or Gaussian) distribution* if every linear combination \n",
    "\n",
    "$$\n",
    "\\sum_{i=1}^{d} a_iX_i, \\quad a_i \\in \\mathbb{R}\n",
    "$$\n",
    "is normally distributed. \n",
    "\n",
    "**Warning**: The sum of two normally distributed random variables does not need to be normally distributed (see below). \n",
    "\n",
    "The multivariate normal distribution has a joint probability density given by\n",
    "\n",
    "$$\n",
    "p(x|m,\\Sigma) =(2\\pi)^{−d/2}|K_0|^{−1/2}\\exp􏰀\\left(-\\frac{1}{2}(x−m)^T {K_0}^{-1}(x−m)\\right),\n",
    "$$\n",
    "\n",
    "where \\\\(m \\in \\mathbb{R}^d\\\\) is the *mean vector* and \\\\(K_0 \\in M_{d}(\\mathbb{R})\\\\) is the (symmetric, positive definite) *covariance matrix*."
   ]
  },
  {
   "cell_type": "markdown",
   "metadata": {},
   "source": [
    "## Prepare Notebook"
   ]
  },
  {
   "cell_type": "code",
   "execution_count": 1,
   "metadata": {},
   "outputs": [],
   "source": [
    "import numpy as np \n",
    "import matplotlib.pyplot as plt\n",
    "import seaborn as sns; sns.set()"
   ]
  },
  {
   "cell_type": "markdown",
   "metadata": {},
   "source": [
    "## Set Parameters \n",
    "\n",
    "Let us take \\\\(d=2\\\\), \n",
    "\n",
    "$$\n",
    "m = \n",
    "\\left(\n",
    "\\begin{array}{c}\n",
    "1 \\\\\n",
    "2\n",
    "\\end{array}\n",
    "\\right)\n",
    "$$\n",
    "\n",
    "and \n",
    "\n",
    "$$\n",
    "K_0 = \n",
    "\\left(\n",
    "\\begin{array}{cc}\n",
    "2 & 1 \\\\\n",
    "1 & 2\n",
    "\\end{array}\n",
    "\\right)\n",
    "$$"
   ]
  },
  {
   "cell_type": "code",
   "execution_count": 2,
   "metadata": {},
   "outputs": [],
   "source": [
    "# Define dimension. \n",
    "d = 2\n",
    "\n",
    "# Set mean vector. \n",
    "m = np.array([1, 2]).reshape(2, 1)\n",
    "\n",
    "# Set covariance function. \n",
    "K_0 = np.array([[2, 1], \n",
    "                [1, 2]])"
   ]
  },
  {
   "cell_type": "markdown",
   "metadata": {},
   "source": [
    "Let us compute the eigenvalues of \\\\(K_0\\\\)."
   ]
  },
  {
   "cell_type": "code",
   "execution_count": 3,
   "metadata": {},
   "outputs": [
    {
     "data": {
      "text/plain": [
       "array([3., 1.])"
      ]
     },
     "execution_count": 3,
     "metadata": {},
     "output_type": "execute_result"
    }
   ],
   "source": [
    "# Eigenvalues covariance function.\n",
    "np.linalg.eigvals(K_0)"
   ]
  },
  {
   "cell_type": "markdown",
   "metadata": {},
   "source": [
    "We see that \\\\(K_0\\\\) is indeed positive definite (see [The Spectral Theorem for Matrices](https://juanitorduz.github.io/the-spectral-theorem-for-matrices/)). "
   ]
  },
  {
   "cell_type": "markdown",
   "metadata": {},
   "source": [
    "## Sampling Process"
   ]
  },
  {
   "cell_type": "markdown",
   "metadata": {},
   "source": [
    "### Step 1: Compute the Cholesky Decomposition"
   ]
  },
  {
   "cell_type": "markdown",
   "metadata": {},
   "source": [
    "We want to compute the Cholesky decomposition of the covariance matrix $K_0$. That is, we want to find a lower triangular matrix \\\\(L\\in M_d(\\mathbb{R})\\\\) such that $K_0 = LL^T$."
   ]
  },
  {
   "cell_type": "markdown",
   "metadata": {},
   "source": [
    "*\"In practice it may be necessary to add a small multiple of the identity matrix \\\\(\\varepsilon I\\\\) to the covariance matrix for numerical reasons. This is because the eigenvalues of the matrix \\\\(K_0\\\\) can decay very rapidly and without this stabilization the Cholesky decomposition fails. The effect on the generated samples is to add additional independent noise of variance \\\\(\\varepsilon \\\\). From the context \\\\(\\varepsilon \\\\) can usually be chosen to have inconsequential effects on the samples, while ensuring numerical stability.\"* ([A.2 Gaussian Identities](http://www.gaussianprocess.org/gpml/chapters/RWA.pdf))"
   ]
  },
  {
   "cell_type": "code",
   "execution_count": 40,
   "metadata": {},
   "outputs": [],
   "source": [
    "# Define epsilon.\n",
    "epsilon = 0.0001\n",
    "\n",
    "# Add small pertturbation. \n",
    "K = K_0 + epsilon*np.identity(d)"
   ]
  },
  {
   "cell_type": "code",
   "execution_count": 43,
   "metadata": {},
   "outputs": [
    {
     "data": {
      "text/plain": [
       "array([[1.41424892, 0.        ],\n",
       "       [0.7070891 , 1.2247959 ]])"
      ]
     },
     "execution_count": 43,
     "metadata": {},
     "output_type": "execute_result"
    }
   ],
   "source": [
    "#  Cholesky decomposition.\n",
    "L = np.linalg.cholesky(K)\n",
    "L"
   ]
  },
  {
   "cell_type": "markdown",
   "metadata": {},
   "source": [
    "Let us verify the desired property:"
   ]
  },
  {
   "cell_type": "code",
   "execution_count": 44,
   "metadata": {},
   "outputs": [
    {
     "data": {
      "text/plain": [
       "array([[2.0001, 1.    ],\n",
       "       [1.    , 2.0001]])"
      ]
     },
     "execution_count": 44,
     "metadata": {},
     "output_type": "execute_result"
    }
   ],
   "source": [
    "np.dot(L, np.transpose(L))"
   ]
  },
  {
   "cell_type": "markdown",
   "metadata": {},
   "source": [
    "### Step 2: Generate  Independent Samples \\\\(u ∼ N(0,I)\\\\)"
   ]
  },
  {
   "cell_type": "code",
   "execution_count": 45,
   "metadata": {},
   "outputs": [],
   "source": [
    "# Number of samples. \n",
    "n = 10000\n",
    "\n",
    "u = np.random.normal(loc=0, scale=1, size=d*n).reshape(d, n)"
   ]
  },
  {
   "cell_type": "markdown",
   "metadata": {},
   "source": [
    "### Step 3: Compute \\\\( x = m + Lu \\\\)"
   ]
  },
  {
   "cell_type": "markdown",
   "metadata": {},
   "source": [
    "The variable \\\\( x = m + Lu \\\\) has a multivariate normal distribution since is a linear combination of *independent* normally distributed variables. Moreover, \n",
    "\n",
    "$$\n",
    "E[x] = E[m + Lu] = m + LE[u] = m\n",
    "$$\n",
    "\n",
    "and \n",
    "\n",
    "$$\n",
    "E[xx^T] = E[mm^T] + E[mu^TL^T] + E[Lum^T] + E[Luu^TL^T] = ||m^2|| + LE[uu^T]L^T = ||m^2|| + K, \n",
    "$$\n",
    "\n",
    "hence, \\\\(E[(x-m)(x^T-m^T)] = K\\\\)."
   ]
  },
  {
   "cell_type": "code",
   "execution_count": 46,
   "metadata": {},
   "outputs": [],
   "source": [
    "x = m + np.dot(L, u)"
   ]
  },
  {
   "cell_type": "markdown",
   "metadata": {},
   "source": [
    "## Plot Distribution"
   ]
  },
  {
   "cell_type": "markdown",
   "metadata": {},
   "source": [
    "Let us plot the density function."
   ]
  },
  {
   "cell_type": "code",
   "execution_count": 50,
   "metadata": {},
   "outputs": [
    {
     "data": {
      "image/png": "[encoded data removed]",
      "text/plain": [
       "<Figure size 432x432 with 3 Axes>"
      ]
     },
     "metadata": {
      "needs_background": "light"
     },
     "output_type": "display_data"
    }
   ],
   "source": [
    "sns.jointplot(x=x[0],\n",
    "              y=x[1], \n",
    "              kind=\"kde\", \n",
    "              space=0);"
   ]
  },
  {
   "cell_type": "markdown",
   "metadata": {},
   "source": [
    "## Sampling Using Scikit-Learn"
   ]
  },
  {
   "cell_type": "markdown",
   "metadata": {},
   "source": [
    "[Scikit-Learn](https://scikit-learn.org/stable/) has a build in sampling function:"
   ]
  },
  {
   "cell_type": "code",
   "execution_count": 51,
   "metadata": {},
   "outputs": [],
   "source": [
    "z = np.random.multivariate_normal(mean=m.reshape(d,), cov=K, size=n)"
   ]
  },
  {
   "cell_type": "code",
   "execution_count": 52,
   "metadata": {},
   "outputs": [],
   "source": [
    "y = np.transpose(z)"
   ]
  },
  {
   "cell_type": "code",
   "execution_count": 54,
   "metadata": {},
   "outputs": [
    {
     "data": {
      "image/png": "[encoded data removed]",
      "text/plain": [
       "<Figure size 432x432 with 3 Axes>"
      ]
     },
     "metadata": {
      "needs_background": "light"
     },
     "output_type": "display_data"
    }
   ],
   "source": [
    "# Plot density function.\n",
    "sns.jointplot(x=y[0],\n",
    "              y=y[1], \n",
    "              kind=\"kde\", \n",
    "              space=0);"
   ]
  },
  {
   "cell_type": "markdown",
   "metadata": {},
   "source": [
    "---"
   ]
  },
  {
   "cell_type": "markdown",
   "metadata": {},
   "source": [
    "## Sums of Normal Random Variables need not be Normal"
   ]
  },
  {
   "cell_type": "markdown",
   "metadata": {},
   "source": [
    "As an important remark, note that sums of normal random variables need not be normal. Let us see a concrete example studied in detail [here](https://planetmath.org/sumsofnormalrandomvariablesneednotbenormal). Let $Z_1 \\sim N(0,1)$ and define \\\\(Z_2 := \\text{sign}(Z_1)Z_1\\\\). Then, \\\\(Z_1 + Z_2\\\\) is not normally distributed. "
   ]
  },
  {
   "cell_type": "code",
   "execution_count": 55,
   "metadata": {},
   "outputs": [],
   "source": [
    "z_1 = np.random.normal(loc=0, scale=1, size=n)\n",
    "z = np.random.normal(loc=0, scale=1, size=n)"
   ]
  },
  {
   "cell_type": "code",
   "execution_count": 56,
   "metadata": {},
   "outputs": [],
   "source": [
    "z_2 = np.sign(z)*z_1"
   ]
  },
  {
   "cell_type": "code",
   "execution_count": 17,
   "metadata": {},
   "outputs": [
    {
     "data": {
      "image/png": "[encoded data removed]",
      "text/plain": [
       "<Figure size 432x432 with 3 Axes>"
      ]
     },
     "metadata": {
      "needs_background": "light"
     },
     "output_type": "display_data"
    }
   ],
   "source": [
    "sns.jointplot(x=z_1,\n",
    "              y=z_2, \n",
    "              kind=\"kde\", \n",
    "              space=0);"
   ]
  },
  {
   "cell_type": "code",
   "execution_count": null,
   "metadata": {},
   "outputs": [],
   "source": []
  }
 ],
 "metadata": {
  "kernelspec": {
   "display_name": "Python 3",
   "language": "python",
   "name": "python3"
  },
  "language_info": {
   "codemirror_mode": {
    "name": "ipython",
    "version": 3
   },
   "file_extension": ".py",
   "mimetype": "text/x-python",
   "name": "python",
   "nbconvert_exporter": "python",
   "pygments_lexer": "ipython3",
   "version": "3.6.8"
  }
 },
 "nbformat": 4,
 "nbformat_minor": 2
}
