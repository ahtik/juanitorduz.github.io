{
 "cells": [
  {
   "cell_type": "markdown",
   "metadata": {},
   "source": [
    "# Web scraping: Getting referendum data using Beautiful Soup \n",
    "\n",
    "In this post I am going to describe how to get the data of the peace [referendum](https://en.wikipedia.org/wiki/Colombian_peace_agreement_referendum,_2016) (which happened in October the 2nd in Colombia)  from the [official government website](http://plebiscito.registraduria.gov.co/99PL/DPLZZZZZZZZZZZZZZZZZ_L1.htm) using [Beautiful Soup](https://www.crummy.com/software/BeautifulSoup/bs4/doc/#) in python (this a task was suggested by [Sebastian Martinez](https://co.linkedin.com/in/sebasti%C3%A1n-mart%C3%ADnez-00184649)). The data is not directly available but is represened as follows:\n",
    "\n",
    "<img src=\"images/plebiscito_datos_image.png\" alt=\"plebiscito_datos_image\" style=\"width: 800px;\"/>\n",
    "\n",
    "The aim is to get the percentages of votes for each town in Colombia by scraping the website.\n",
    "\n",
    "**Warning:** I want to emphasize that this post **does not** involve analizing the data or getting conclusions from it. These kind of analysis should be done carefully and responsibly."
   ]
  },
  {
   "cell_type": "markdown",
   "metadata": {},
   "source": [
    "## Step 1: Setting up the enviorment."
   ]
  },
  {
   "cell_type": "code",
   "execution_count": 1,
   "metadata": {
    "collapsed": true
   },
   "outputs": [],
   "source": [
    "# This is the principal website of the referendum. \n",
    "url_main=\"http://plebiscito.registraduria.gov.co\"\n",
    "\n",
    "# This is the complete url of the website of the referendum. \n",
    "url = \"http://plebiscito.registraduria.gov.co/99PL/DPLZZZZZZZZZZZZZZZZZ_L1.htm\""
   ]
  },
  {
   "cell_type": "markdown",
   "metadata": {},
   "source": [
    "The html code of *url* looks like:\n",
    "\n",
    "<img src=\"images/html_image.png\" alt=\"html\" style=\"width: 800px;\"/>"
   ]
  },
  {
   "cell_type": "code",
   "execution_count": 2,
   "metadata": {
    "collapsed": true
   },
   "outputs": [],
   "source": [
    "from bs4 import BeautifulSoup\n",
    "import requests\n",
    "\n",
    "# This function gets the html of the website. \n",
    "def get_soup(s):\n",
    "    r  = requests.get(s)\n",
    "    data = r.text\n",
    "    soup = BeautifulSoup(data, \"lxml\")\n",
    "    return soup\n",
    "\n",
    "\n",
    "soup = get_soup(url)"
   ]
  },
  {
   "cell_type": "markdown",
   "metadata": {},
   "source": [
    "## Step 2: Getting the departments (states) information\n",
    "\n",
    "Here we pick the information of each department as a list.\n",
    "Each element of the list is of type bs4.element.Tag\n",
    "\n",
    "*Remark:* You need to explore thr html code to find out that `find_all(\"option\")[56:90]` actually gets the departments names."
   ]
  },
  {
   "cell_type": "code",
   "execution_count": 3,
   "metadata": {
    "collapsed": true
   },
   "outputs": [],
   "source": [
    "departments_soup = soup.find_all(\"option\")[56:90]"
   ]
  },
  {
   "cell_type": "markdown",
   "metadata": {},
   "source": [
    "We construct from the departments_soup a pandas DataFrame. \n",
    "It contains two columns: \n",
    "1. The name of the department. \n",
    "2. The path to each department result page (where detailed infromation is provided).  "
   ]
  },
  {
   "cell_type": "code",
   "execution_count": 4,
   "metadata": {},
   "outputs": [
    {
     "data": {
      "text/html": [
       "<div>\n",
       "<style>\n",
       "    .dataframe thead tr:only-child th {\n",
       "        text-align: right;\n",
       "    }\n",
       "\n",
       "    .dataframe thead th {\n",
       "        text-align: left;\n",
       "    }\n",
       "\n",
       "    .dataframe tbody tr th {\n",
       "        vertical-align: top;\n",
       "    }\n",
       "</style>\n",
       "<table border=\"1\" class=\"dataframe\">\n",
       "  <thead>\n",
       "    <tr style=\"text-align: right;\">\n",
       "      <th></th>\n",
       "      <th>Department</th>\n",
       "      <th>path</th>\n",
       "    </tr>\n",
       "  </thead>\n",
       "  <tbody>\n",
       "    <tr>\n",
       "      <th>0</th>\n",
       "      <td>AMAZONAS</td>\n",
       "      <td>../99PL/DPL60ZZZZZZZZZZZZZZZ_L1.htm</td>\n",
       "    </tr>\n",
       "    <tr>\n",
       "      <th>1</th>\n",
       "      <td>ANTIOQUIA</td>\n",
       "      <td>../99PL/DPL01ZZZZZZZZZZZZZZZ_L1.htm</td>\n",
       "    </tr>\n",
       "    <tr>\n",
       "      <th>2</th>\n",
       "      <td>ARAUCA</td>\n",
       "      <td>../99PL/DPL40ZZZZZZZZZZZZZZZ_L1.htm</td>\n",
       "    </tr>\n",
       "    <tr>\n",
       "      <th>3</th>\n",
       "      <td>ATLANTICO</td>\n",
       "      <td>../99PL/DPL03ZZZZZZZZZZZZZZZ_L1.htm</td>\n",
       "    </tr>\n",
       "    <tr>\n",
       "      <th>4</th>\n",
       "      <td>BOGOTA D.C.</td>\n",
       "      <td>../99PL/DPL16ZZZZZZZZZZZZZZZ_L1.htm</td>\n",
       "    </tr>\n",
       "    <tr>\n",
       "      <th>5</th>\n",
       "      <td>BOLIVAR</td>\n",
       "      <td>../99PL/DPL05ZZZZZZZZZZZZZZZ_L1.htm</td>\n",
       "    </tr>\n",
       "    <tr>\n",
       "      <th>6</th>\n",
       "      <td>BOYACA</td>\n",
       "      <td>../99PL/DPL07ZZZZZZZZZZZZZZZ_L1.htm</td>\n",
       "    </tr>\n",
       "    <tr>\n",
       "      <th>7</th>\n",
       "      <td>CALDAS</td>\n",
       "      <td>../99PL/DPL09ZZZZZZZZZZZZZZZ_L1.htm</td>\n",
       "    </tr>\n",
       "    <tr>\n",
       "      <th>8</th>\n",
       "      <td>CAQUETA</td>\n",
       "      <td>../99PL/DPL44ZZZZZZZZZZZZZZZ_L1.htm</td>\n",
       "    </tr>\n",
       "    <tr>\n",
       "      <th>9</th>\n",
       "      <td>CASANARE</td>\n",
       "      <td>../99PL/DPL46ZZZZZZZZZZZZZZZ_L1.htm</td>\n",
       "    </tr>\n",
       "    <tr>\n",
       "      <th>10</th>\n",
       "      <td>CAUCA</td>\n",
       "      <td>../99PL/DPL11ZZZZZZZZZZZZZZZ_L1.htm</td>\n",
       "    </tr>\n",
       "    <tr>\n",
       "      <th>11</th>\n",
       "      <td>CESAR</td>\n",
       "      <td>../99PL/DPL12ZZZZZZZZZZZZZZZ_L1.htm</td>\n",
       "    </tr>\n",
       "    <tr>\n",
       "      <th>12</th>\n",
       "      <td>CHOCO</td>\n",
       "      <td>../99PL/DPL17ZZZZZZZZZZZZZZZ_L1.htm</td>\n",
       "    </tr>\n",
       "    <tr>\n",
       "      <th>13</th>\n",
       "      <td>CONSULADOS</td>\n",
       "      <td>../99PL/DPL88ZZZZZZZZZZZZZZZ_L1.htm</td>\n",
       "    </tr>\n",
       "    <tr>\n",
       "      <th>14</th>\n",
       "      <td>CORDOBA</td>\n",
       "      <td>../99PL/DPL13ZZZZZZZZZZZZZZZ_L1.htm</td>\n",
       "    </tr>\n",
       "    <tr>\n",
       "      <th>15</th>\n",
       "      <td>CUNDINAMARCA</td>\n",
       "      <td>../99PL/DPL15ZZZZZZZZZZZZZZZ_L1.htm</td>\n",
       "    </tr>\n",
       "    <tr>\n",
       "      <th>16</th>\n",
       "      <td>GUAINIA</td>\n",
       "      <td>../99PL/DPL50ZZZZZZZZZZZZZZZ_L1.htm</td>\n",
       "    </tr>\n",
       "    <tr>\n",
       "      <th>17</th>\n",
       "      <td>GUAVIARE</td>\n",
       "      <td>../99PL/DPL54ZZZZZZZZZZZZZZZ_L1.htm</td>\n",
       "    </tr>\n",
       "    <tr>\n",
       "      <th>18</th>\n",
       "      <td>HUILA</td>\n",
       "      <td>../99PL/DPL19ZZZZZZZZZZZZZZZ_L1.htm</td>\n",
       "    </tr>\n",
       "    <tr>\n",
       "      <th>19</th>\n",
       "      <td>LA GUAJIRA</td>\n",
       "      <td>../99PL/DPL48ZZZZZZZZZZZZZZZ_L1.htm</td>\n",
       "    </tr>\n",
       "    <tr>\n",
       "      <th>20</th>\n",
       "      <td>MAGDALENA</td>\n",
       "      <td>../99PL/DPL21ZZZZZZZZZZZZZZZ_L1.htm</td>\n",
       "    </tr>\n",
       "    <tr>\n",
       "      <th>21</th>\n",
       "      <td>META</td>\n",
       "      <td>../99PL/DPL52ZZZZZZZZZZZZZZZ_L1.htm</td>\n",
       "    </tr>\n",
       "    <tr>\n",
       "      <th>22</th>\n",
       "      <td>NARIÃO</td>\n",
       "      <td>../99PL/DPL23ZZZZZZZZZZZZZZZ_L1.htm</td>\n",
       "    </tr>\n",
       "    <tr>\n",
       "      <th>23</th>\n",
       "      <td>NORTE DE SAN</td>\n",
       "      <td>../99PL/DPL25ZZZZZZZZZZZZZZZ_L1.htm</td>\n",
       "    </tr>\n",
       "    <tr>\n",
       "      <th>24</th>\n",
       "      <td>PUTUMAYO</td>\n",
       "      <td>../99PL/DPL64ZZZZZZZZZZZZZZZ_L1.htm</td>\n",
       "    </tr>\n",
       "    <tr>\n",
       "      <th>25</th>\n",
       "      <td>QUINDIO</td>\n",
       "      <td>../99PL/DPL26ZZZZZZZZZZZZZZZ_L1.htm</td>\n",
       "    </tr>\n",
       "    <tr>\n",
       "      <th>26</th>\n",
       "      <td>RISARALDA</td>\n",
       "      <td>../99PL/DPL24ZZZZZZZZZZZZZZZ_L1.htm</td>\n",
       "    </tr>\n",
       "    <tr>\n",
       "      <th>27</th>\n",
       "      <td>SAN ANDRES</td>\n",
       "      <td>../99PL/DPL56ZZZZZZZZZZZZZZZ_L1.htm</td>\n",
       "    </tr>\n",
       "    <tr>\n",
       "      <th>28</th>\n",
       "      <td>SANTANDER</td>\n",
       "      <td>../99PL/DPL27ZZZZZZZZZZZZZZZ_L1.htm</td>\n",
       "    </tr>\n",
       "    <tr>\n",
       "      <th>29</th>\n",
       "      <td>SUCRE</td>\n",
       "      <td>../99PL/DPL28ZZZZZZZZZZZZZZZ_L1.htm</td>\n",
       "    </tr>\n",
       "    <tr>\n",
       "      <th>30</th>\n",
       "      <td>TOLIMA</td>\n",
       "      <td>../99PL/DPL29ZZZZZZZZZZZZZZZ_L1.htm</td>\n",
       "    </tr>\n",
       "    <tr>\n",
       "      <th>31</th>\n",
       "      <td>VALLE</td>\n",
       "      <td>../99PL/DPL31ZZZZZZZZZZZZZZZ_L1.htm</td>\n",
       "    </tr>\n",
       "    <tr>\n",
       "      <th>32</th>\n",
       "      <td>VAUPES</td>\n",
       "      <td>../99PL/DPL68ZZZZZZZZZZZZZZZ_L1.htm</td>\n",
       "    </tr>\n",
       "    <tr>\n",
       "      <th>33</th>\n",
       "      <td>VICHADA</td>\n",
       "      <td>../99PL/DPL72ZZZZZZZZZZZZZZZ_L1.htm</td>\n",
       "    </tr>\n",
       "  </tbody>\n",
       "</table>\n",
       "</div>"
      ],
      "text/plain": [
       "      Department                                 path\n",
       "0       AMAZONAS  ../99PL/DPL60ZZZZZZZZZZZZZZZ_L1.htm\n",
       "1      ANTIOQUIA  ../99PL/DPL01ZZZZZZZZZZZZZZZ_L1.htm\n",
       "2         ARAUCA  ../99PL/DPL40ZZZZZZZZZZZZZZZ_L1.htm\n",
       "3      ATLANTICO  ../99PL/DPL03ZZZZZZZZZZZZZZZ_L1.htm\n",
       "4    BOGOTA D.C.  ../99PL/DPL16ZZZZZZZZZZZZZZZ_L1.htm\n",
       "5        BOLIVAR  ../99PL/DPL05ZZZZZZZZZZZZZZZ_L1.htm\n",
       "6         BOYACA  ../99PL/DPL07ZZZZZZZZZZZZZZZ_L1.htm\n",
       "7         CALDAS  ../99PL/DPL09ZZZZZZZZZZZZZZZ_L1.htm\n",
       "8        CAQUETA  ../99PL/DPL44ZZZZZZZZZZZZZZZ_L1.htm\n",
       "9       CASANARE  ../99PL/DPL46ZZZZZZZZZZZZZZZ_L1.htm\n",
       "10         CAUCA  ../99PL/DPL11ZZZZZZZZZZZZZZZ_L1.htm\n",
       "11         CESAR  ../99PL/DPL12ZZZZZZZZZZZZZZZ_L1.htm\n",
       "12         CHOCO  ../99PL/DPL17ZZZZZZZZZZZZZZZ_L1.htm\n",
       "13    CONSULADOS  ../99PL/DPL88ZZZZZZZZZZZZZZZ_L1.htm\n",
       "14       CORDOBA  ../99PL/DPL13ZZZZZZZZZZZZZZZ_L1.htm\n",
       "15  CUNDINAMARCA  ../99PL/DPL15ZZZZZZZZZZZZZZZ_L1.htm\n",
       "16       GUAINIA  ../99PL/DPL50ZZZZZZZZZZZZZZZ_L1.htm\n",
       "17      GUAVIARE  ../99PL/DPL54ZZZZZZZZZZZZZZZ_L1.htm\n",
       "18         HUILA  ../99PL/DPL19ZZZZZZZZZZZZZZZ_L1.htm\n",
       "19    LA GUAJIRA  ../99PL/DPL48ZZZZZZZZZZZZZZZ_L1.htm\n",
       "20     MAGDALENA  ../99PL/DPL21ZZZZZZZZZZZZZZZ_L1.htm\n",
       "21          META  ../99PL/DPL52ZZZZZZZZZZZZZZZ_L1.htm\n",
       "22       NARIÃO  ../99PL/DPL23ZZZZZZZZZZZZZZZ_L1.htm\n",
       "23  NORTE DE SAN  ../99PL/DPL25ZZZZZZZZZZZZZZZ_L1.htm\n",
       "24      PUTUMAYO  ../99PL/DPL64ZZZZZZZZZZZZZZZ_L1.htm\n",
       "25       QUINDIO  ../99PL/DPL26ZZZZZZZZZZZZZZZ_L1.htm\n",
       "26     RISARALDA  ../99PL/DPL24ZZZZZZZZZZZZZZZ_L1.htm\n",
       "27    SAN ANDRES  ../99PL/DPL56ZZZZZZZZZZZZZZZ_L1.htm\n",
       "28     SANTANDER  ../99PL/DPL27ZZZZZZZZZZZZZZZ_L1.htm\n",
       "29         SUCRE  ../99PL/DPL28ZZZZZZZZZZZZZZZ_L1.htm\n",
       "30        TOLIMA  ../99PL/DPL29ZZZZZZZZZZZZZZZ_L1.htm\n",
       "31         VALLE  ../99PL/DPL31ZZZZZZZZZZZZZZZ_L1.htm\n",
       "32        VAUPES  ../99PL/DPL68ZZZZZZZZZZZZZZZ_L1.htm\n",
       "33       VICHADA  ../99PL/DPL72ZZZZZZZZZZZZZZZ_L1.htm"
      ]
     },
     "execution_count": 4,
     "metadata": {},
     "output_type": "execute_result"
    }
   ],
   "source": [
    "import pandas as pd\n",
    "\n",
    "departments = pd.DataFrame(columns=(\"Department\", \"path\"))\n",
    "\n",
    "for i in range (0,len(departments_soup)):\n",
    "    row=pd.Series(dict(zip([\"Department\", \"path\"],\n",
    "                           [departments_soup[i].get_text(),\n",
    "                            departments_soup[i][\"value\"]])))\n",
    "    row.name = i\n",
    "    departments = departments.append(row)\n",
    "\n",
    "# Let us see the result.    \n",
    "departments"
   ]
  },
  {
   "cell_type": "markdown",
   "metadata": {},
   "source": [
    "Looking into the data we see that there are two deparments (Nariño and Norte de Santander) with misspellings. "
   ]
  },
  {
   "cell_type": "code",
   "execution_count": 5,
   "metadata": {
    "collapsed": true
   },
   "outputs": [],
   "source": [
    "departments.loc[22,\"Department\"] = \"NARIÑO\"\n",
    "departments.loc[23,\"Department\"] = 'NORTE DE SANTANDER'"
   ]
  },
  {
   "cell_type": "markdown",
   "metadata": {},
   "source": [
    "From each department path we construct the real url and store it in a new column in the deparments DataFrame called \"url\"."
   ]
  },
  {
   "cell_type": "code",
   "execution_count": 6,
   "metadata": {
    "collapsed": true
   },
   "outputs": [],
   "source": [
    "def construct_complete_url(path):\n",
    "    complete_url = url_main + path.split(\"..\")[1]\n",
    "    return complete_url\n",
    "\n",
    "departments[\"url\"]=departments[\"path\"].apply(lambda x: construct_complete_url(x))"
   ]
  },
  {
   "cell_type": "code",
   "execution_count": 7,
   "metadata": {},
   "outputs": [
    {
     "data": {
      "text/html": [
       "<div>\n",
       "<style>\n",
       "    .dataframe thead tr:only-child th {\n",
       "        text-align: right;\n",
       "    }\n",
       "\n",
       "    .dataframe thead th {\n",
       "        text-align: left;\n",
       "    }\n",
       "\n",
       "    .dataframe tbody tr th {\n",
       "        vertical-align: top;\n",
       "    }\n",
       "</style>\n",
       "<table border=\"1\" class=\"dataframe\">\n",
       "  <thead>\n",
       "    <tr style=\"text-align: right;\">\n",
       "      <th></th>\n",
       "      <th>Department</th>\n",
       "      <th>path</th>\n",
       "      <th>url</th>\n",
       "    </tr>\n",
       "  </thead>\n",
       "  <tbody>\n",
       "    <tr>\n",
       "      <th>0</th>\n",
       "      <td>AMAZONAS</td>\n",
       "      <td>../99PL/DPL60ZZZZZZZZZZZZZZZ_L1.htm</td>\n",
       "      <td>http://plebiscito.registraduria.gov.co/99PL/DP...</td>\n",
       "    </tr>\n",
       "    <tr>\n",
       "      <th>1</th>\n",
       "      <td>ANTIOQUIA</td>\n",
       "      <td>../99PL/DPL01ZZZZZZZZZZZZZZZ_L1.htm</td>\n",
       "      <td>http://plebiscito.registraduria.gov.co/99PL/DP...</td>\n",
       "    </tr>\n",
       "    <tr>\n",
       "      <th>2</th>\n",
       "      <td>ARAUCA</td>\n",
       "      <td>../99PL/DPL40ZZZZZZZZZZZZZZZ_L1.htm</td>\n",
       "      <td>http://plebiscito.registraduria.gov.co/99PL/DP...</td>\n",
       "    </tr>\n",
       "    <tr>\n",
       "      <th>3</th>\n",
       "      <td>ATLANTICO</td>\n",
       "      <td>../99PL/DPL03ZZZZZZZZZZZZZZZ_L1.htm</td>\n",
       "      <td>http://plebiscito.registraduria.gov.co/99PL/DP...</td>\n",
       "    </tr>\n",
       "    <tr>\n",
       "      <th>4</th>\n",
       "      <td>BOGOTA D.C.</td>\n",
       "      <td>../99PL/DPL16ZZZZZZZZZZZZZZZ_L1.htm</td>\n",
       "      <td>http://plebiscito.registraduria.gov.co/99PL/DP...</td>\n",
       "    </tr>\n",
       "  </tbody>\n",
       "</table>\n",
       "</div>"
      ],
      "text/plain": [
       "    Department                                 path  \\\n",
       "0     AMAZONAS  ../99PL/DPL60ZZZZZZZZZZZZZZZ_L1.htm   \n",
       "1    ANTIOQUIA  ../99PL/DPL01ZZZZZZZZZZZZZZZ_L1.htm   \n",
       "2       ARAUCA  ../99PL/DPL40ZZZZZZZZZZZZZZZ_L1.htm   \n",
       "3    ATLANTICO  ../99PL/DPL03ZZZZZZZZZZZZZZZ_L1.htm   \n",
       "4  BOGOTA D.C.  ../99PL/DPL16ZZZZZZZZZZZZZZZ_L1.htm   \n",
       "\n",
       "                                                 url  \n",
       "0  http://plebiscito.registraduria.gov.co/99PL/DP...  \n",
       "1  http://plebiscito.registraduria.gov.co/99PL/DP...  \n",
       "2  http://plebiscito.registraduria.gov.co/99PL/DP...  \n",
       "3  http://plebiscito.registraduria.gov.co/99PL/DP...  \n",
       "4  http://plebiscito.registraduria.gov.co/99PL/DP...  "
      ]
     },
     "execution_count": 7,
     "metadata": {},
     "output_type": "execute_result"
    }
   ],
   "source": [
    "# Let us see the head of the resulting DataFrame.\n",
    "departments.head()"
   ]
  },
  {
   "cell_type": "markdown",
   "metadata": {},
   "source": [
    "We create a new column in the deparments DataFrame called *soup*. This column stores a soup object obtained from their corresponding url."
   ]
  },
  {
   "cell_type": "code",
   "execution_count": 8,
   "metadata": {
    "collapsed": true
   },
   "outputs": [],
   "source": [
    " departments[\"soup\"]=departments[\"url\"].apply(lambda x : get_soup(x))"
   ]
  },
  {
   "cell_type": "markdown",
   "metadata": {},
   "source": [
    "## Step 3: Getting the  towns information\n",
    "\n",
    "We make from the departments a pandas DataFrame of towns. It contains three columns: \n",
    "1. The name of the department. \n",
    "2. The name of the town. \n",
    "3. The path to each department result. "
   ]
  },
  {
   "cell_type": "code",
   "execution_count": 9,
   "metadata": {
    "collapsed": true
   },
   "outputs": [],
   "source": [
    "towns = pd.DataFrame(columns=(\"Department\", \"Town\", \"path\"))\n",
    "\n",
    "for j in range(0,departments.shape[0]):\n",
    "    \n",
    "    towns_in_department = departments[\"soup\"][j].find_all(\"option\")[36:]\n",
    "    \n",
    "    for i in range (0,len(towns_in_department)):\n",
    "        dept = departments.loc[j,\"Department\"]\n",
    "        town_name = towns_in_department[i].get_text()\n",
    "        town_path = towns_in_department[i][\"value\"]\n",
    "        row = pd.Series(dict(zip([\"Department\", \"Town\", \"path\"],[dept,town_name,town_path])))\n",
    "        towns = towns.append(row, ignore_index=True)"
   ]
  },
  {
   "cell_type": "code",
   "execution_count": 10,
   "metadata": {},
   "outputs": [
    {
     "data": {
      "text/html": [
       "<div>\n",
       "<style>\n",
       "    .dataframe thead tr:only-child th {\n",
       "        text-align: right;\n",
       "    }\n",
       "\n",
       "    .dataframe thead th {\n",
       "        text-align: left;\n",
       "    }\n",
       "\n",
       "    .dataframe tbody tr th {\n",
       "        vertical-align: top;\n",
       "    }\n",
       "</style>\n",
       "<table border=\"1\" class=\"dataframe\">\n",
       "  <thead>\n",
       "    <tr style=\"text-align: right;\">\n",
       "      <th></th>\n",
       "      <th>Department</th>\n",
       "      <th>Town</th>\n",
       "      <th>path</th>\n",
       "    </tr>\n",
       "  </thead>\n",
       "  <tbody>\n",
       "    <tr>\n",
       "      <th>0</th>\n",
       "      <td>AMAZONAS</td>\n",
       "      <td>EL ENCANTO</td>\n",
       "      <td>../99PL/DPL60010ZZZZZZZZZZZZ_L1.htm</td>\n",
       "    </tr>\n",
       "    <tr>\n",
       "      <th>1</th>\n",
       "      <td>AMAZONAS</td>\n",
       "      <td>LA CHORRERA</td>\n",
       "      <td>../99PL/DPL60013ZZZZZZZZZZZZ_L1.htm</td>\n",
       "    </tr>\n",
       "    <tr>\n",
       "      <th>2</th>\n",
       "      <td>AMAZONAS</td>\n",
       "      <td>LA PEDRERA</td>\n",
       "      <td>../99PL/DPL60016ZZZZZZZZZZZZ_L1.htm</td>\n",
       "    </tr>\n",
       "    <tr>\n",
       "      <th>3</th>\n",
       "      <td>AMAZONAS</td>\n",
       "      <td>LA VICTORIA</td>\n",
       "      <td>../99PL/DPL60017ZZZZZZZZZZZZ_L1.htm</td>\n",
       "    </tr>\n",
       "    <tr>\n",
       "      <th>4</th>\n",
       "      <td>AMAZONAS</td>\n",
       "      <td>LETICIA</td>\n",
       "      <td>../99PL/DPL60001ZZZZZZZZZZZZ_L1.htm</td>\n",
       "    </tr>\n",
       "    <tr>\n",
       "      <th>5</th>\n",
       "      <td>AMAZONAS</td>\n",
       "      <td>MIRITI PARANA</td>\n",
       "      <td>../99PL/DPL60019ZZZZZZZZZZZZ_L1.htm</td>\n",
       "    </tr>\n",
       "    <tr>\n",
       "      <th>6</th>\n",
       "      <td>AMAZONAS</td>\n",
       "      <td>PUERTO ALEGRIA</td>\n",
       "      <td>../99PL/DPL60030ZZZZZZZZZZZZ_L1.htm</td>\n",
       "    </tr>\n",
       "    <tr>\n",
       "      <th>7</th>\n",
       "      <td>AMAZONAS</td>\n",
       "      <td>PUERTO ARICA</td>\n",
       "      <td>../99PL/DPL60040ZZZZZZZZZZZZ_L1.htm</td>\n",
       "    </tr>\n",
       "    <tr>\n",
       "      <th>8</th>\n",
       "      <td>AMAZONAS</td>\n",
       "      <td>PUERTO NARIÃO</td>\n",
       "      <td>../99PL/DPL60007ZZZZZZZZZZZZ_L1.htm</td>\n",
       "    </tr>\n",
       "    <tr>\n",
       "      <th>9</th>\n",
       "      <td>AMAZONAS</td>\n",
       "      <td>PUERTO SANTANDER</td>\n",
       "      <td>../99PL/DPL60021ZZZZZZZZZZZZ_L1.htm</td>\n",
       "    </tr>\n",
       "    <tr>\n",
       "      <th>10</th>\n",
       "      <td>AMAZONAS</td>\n",
       "      <td>TARAPACA</td>\n",
       "      <td>../99PL/DPL60022ZZZZZZZZZZZZ_L1.htm</td>\n",
       "    </tr>\n",
       "    <tr>\n",
       "      <th>11</th>\n",
       "      <td>ANTIOQUIA</td>\n",
       "      <td>ABEJORRAL</td>\n",
       "      <td>../99PL/DPL01004ZZZZZZZZZZZZ_L1.htm</td>\n",
       "    </tr>\n",
       "    <tr>\n",
       "      <th>12</th>\n",
       "      <td>ANTIOQUIA</td>\n",
       "      <td>ABRIAQUI</td>\n",
       "      <td>../99PL/DPL01007ZZZZZZZZZZZZ_L1.htm</td>\n",
       "    </tr>\n",
       "    <tr>\n",
       "      <th>13</th>\n",
       "      <td>ANTIOQUIA</td>\n",
       "      <td>ALEJANDRIA</td>\n",
       "      <td>../99PL/DPL01010ZZZZZZZZZZZZ_L1.htm</td>\n",
       "    </tr>\n",
       "    <tr>\n",
       "      <th>14</th>\n",
       "      <td>ANTIOQUIA</td>\n",
       "      <td>AMAGA</td>\n",
       "      <td>../99PL/DPL01013ZZZZZZZZZZZZ_L1.htm</td>\n",
       "    </tr>\n",
       "    <tr>\n",
       "      <th>15</th>\n",
       "      <td>ANTIOQUIA</td>\n",
       "      <td>AMALFI</td>\n",
       "      <td>../99PL/DPL01016ZZZZZZZZZZZZ_L1.htm</td>\n",
       "    </tr>\n",
       "    <tr>\n",
       "      <th>16</th>\n",
       "      <td>ANTIOQUIA</td>\n",
       "      <td>ANDES</td>\n",
       "      <td>../99PL/DPL01019ZZZZZZZZZZZZ_L1.htm</td>\n",
       "    </tr>\n",
       "    <tr>\n",
       "      <th>17</th>\n",
       "      <td>ANTIOQUIA</td>\n",
       "      <td>ANGELOPOLIS</td>\n",
       "      <td>../99PL/DPL01022ZZZZZZZZZZZZ_L1.htm</td>\n",
       "    </tr>\n",
       "    <tr>\n",
       "      <th>18</th>\n",
       "      <td>ANTIOQUIA</td>\n",
       "      <td>ANGOSTURA</td>\n",
       "      <td>../99PL/DPL01025ZZZZZZZZZZZZ_L1.htm</td>\n",
       "    </tr>\n",
       "    <tr>\n",
       "      <th>19</th>\n",
       "      <td>ANTIOQUIA</td>\n",
       "      <td>ANORI</td>\n",
       "      <td>../99PL/DPL01028ZZZZZZZZZZZZ_L1.htm</td>\n",
       "    </tr>\n",
       "  </tbody>\n",
       "</table>\n",
       "</div>"
      ],
      "text/plain": [
       "   Department              Town                                 path\n",
       "0    AMAZONAS        EL ENCANTO  ../99PL/DPL60010ZZZZZZZZZZZZ_L1.htm\n",
       "1    AMAZONAS       LA CHORRERA  ../99PL/DPL60013ZZZZZZZZZZZZ_L1.htm\n",
       "2    AMAZONAS        LA PEDRERA  ../99PL/DPL60016ZZZZZZZZZZZZ_L1.htm\n",
       "3    AMAZONAS       LA VICTORIA  ../99PL/DPL60017ZZZZZZZZZZZZ_L1.htm\n",
       "4    AMAZONAS           LETICIA  ../99PL/DPL60001ZZZZZZZZZZZZ_L1.htm\n",
       "5    AMAZONAS     MIRITI PARANA  ../99PL/DPL60019ZZZZZZZZZZZZ_L1.htm\n",
       "6    AMAZONAS    PUERTO ALEGRIA  ../99PL/DPL60030ZZZZZZZZZZZZ_L1.htm\n",
       "7    AMAZONAS      PUERTO ARICA  ../99PL/DPL60040ZZZZZZZZZZZZ_L1.htm\n",
       "8    AMAZONAS    PUERTO NARIÃO  ../99PL/DPL60007ZZZZZZZZZZZZ_L1.htm\n",
       "9    AMAZONAS  PUERTO SANTANDER  ../99PL/DPL60021ZZZZZZZZZZZZ_L1.htm\n",
       "10   AMAZONAS          TARAPACA  ../99PL/DPL60022ZZZZZZZZZZZZ_L1.htm\n",
       "11  ANTIOQUIA         ABEJORRAL  ../99PL/DPL01004ZZZZZZZZZZZZ_L1.htm\n",
       "12  ANTIOQUIA          ABRIAQUI  ../99PL/DPL01007ZZZZZZZZZZZZ_L1.htm\n",
       "13  ANTIOQUIA        ALEJANDRIA  ../99PL/DPL01010ZZZZZZZZZZZZ_L1.htm\n",
       "14  ANTIOQUIA             AMAGA  ../99PL/DPL01013ZZZZZZZZZZZZ_L1.htm\n",
       "15  ANTIOQUIA            AMALFI  ../99PL/DPL01016ZZZZZZZZZZZZ_L1.htm\n",
       "16  ANTIOQUIA             ANDES  ../99PL/DPL01019ZZZZZZZZZZZZ_L1.htm\n",
       "17  ANTIOQUIA       ANGELOPOLIS  ../99PL/DPL01022ZZZZZZZZZZZZ_L1.htm\n",
       "18  ANTIOQUIA         ANGOSTURA  ../99PL/DPL01025ZZZZZZZZZZZZ_L1.htm\n",
       "19  ANTIOQUIA             ANORI  ../99PL/DPL01028ZZZZZZZZZZZZ_L1.htm"
      ]
     },
     "execution_count": 10,
     "metadata": {},
     "output_type": "execute_result"
    }
   ],
   "source": [
    "# Let us see the structure for the first 20 towns.\n",
    "towns.head(20)"
   ]
  },
  {
   "cell_type": "markdown",
   "metadata": {},
   "source": [
    "We create a new column in the towns DataFrame called *url*. This coumn stores the real url for each town. "
   ]
  },
  {
   "cell_type": "code",
   "execution_count": 11,
   "metadata": {
    "collapsed": true
   },
   "outputs": [],
   "source": [
    "towns[\"url\"]=towns[\"path\"].apply(lambda x: construct_complete_url(x))"
   ]
  },
  {
   "cell_type": "code",
   "execution_count": 12,
   "metadata": {},
   "outputs": [
    {
     "data": {
      "text/html": [
       "<div>\n",
       "<style>\n",
       "    .dataframe thead tr:only-child th {\n",
       "        text-align: right;\n",
       "    }\n",
       "\n",
       "    .dataframe thead th {\n",
       "        text-align: left;\n",
       "    }\n",
       "\n",
       "    .dataframe tbody tr th {\n",
       "        vertical-align: top;\n",
       "    }\n",
       "</style>\n",
       "<table border=\"1\" class=\"dataframe\">\n",
       "  <thead>\n",
       "    <tr style=\"text-align: right;\">\n",
       "      <th></th>\n",
       "      <th>Department</th>\n",
       "      <th>Town</th>\n",
       "      <th>path</th>\n",
       "      <th>url</th>\n",
       "    </tr>\n",
       "  </thead>\n",
       "  <tbody>\n",
       "    <tr>\n",
       "      <th>0</th>\n",
       "      <td>AMAZONAS</td>\n",
       "      <td>EL ENCANTO</td>\n",
       "      <td>../99PL/DPL60010ZZZZZZZZZZZZ_L1.htm</td>\n",
       "      <td>http://plebiscito.registraduria.gov.co/99PL/DP...</td>\n",
       "    </tr>\n",
       "    <tr>\n",
       "      <th>1</th>\n",
       "      <td>AMAZONAS</td>\n",
       "      <td>LA CHORRERA</td>\n",
       "      <td>../99PL/DPL60013ZZZZZZZZZZZZ_L1.htm</td>\n",
       "      <td>http://plebiscito.registraduria.gov.co/99PL/DP...</td>\n",
       "    </tr>\n",
       "    <tr>\n",
       "      <th>2</th>\n",
       "      <td>AMAZONAS</td>\n",
       "      <td>LA PEDRERA</td>\n",
       "      <td>../99PL/DPL60016ZZZZZZZZZZZZ_L1.htm</td>\n",
       "      <td>http://plebiscito.registraduria.gov.co/99PL/DP...</td>\n",
       "    </tr>\n",
       "    <tr>\n",
       "      <th>3</th>\n",
       "      <td>AMAZONAS</td>\n",
       "      <td>LA VICTORIA</td>\n",
       "      <td>../99PL/DPL60017ZZZZZZZZZZZZ_L1.htm</td>\n",
       "      <td>http://plebiscito.registraduria.gov.co/99PL/DP...</td>\n",
       "    </tr>\n",
       "    <tr>\n",
       "      <th>4</th>\n",
       "      <td>AMAZONAS</td>\n",
       "      <td>LETICIA</td>\n",
       "      <td>../99PL/DPL60001ZZZZZZZZZZZZ_L1.htm</td>\n",
       "      <td>http://plebiscito.registraduria.gov.co/99PL/DP...</td>\n",
       "    </tr>\n",
       "  </tbody>\n",
       "</table>\n",
       "</div>"
      ],
      "text/plain": [
       "  Department         Town                                 path  \\\n",
       "0   AMAZONAS   EL ENCANTO  ../99PL/DPL60010ZZZZZZZZZZZZ_L1.htm   \n",
       "1   AMAZONAS  LA CHORRERA  ../99PL/DPL60013ZZZZZZZZZZZZ_L1.htm   \n",
       "2   AMAZONAS   LA PEDRERA  ../99PL/DPL60016ZZZZZZZZZZZZ_L1.htm   \n",
       "3   AMAZONAS  LA VICTORIA  ../99PL/DPL60017ZZZZZZZZZZZZ_L1.htm   \n",
       "4   AMAZONAS      LETICIA  ../99PL/DPL60001ZZZZZZZZZZZZ_L1.htm   \n",
       "\n",
       "                                                 url  \n",
       "0  http://plebiscito.registraduria.gov.co/99PL/DP...  \n",
       "1  http://plebiscito.registraduria.gov.co/99PL/DP...  \n",
       "2  http://plebiscito.registraduria.gov.co/99PL/DP...  \n",
       "3  http://plebiscito.registraduria.gov.co/99PL/DP...  \n",
       "4  http://plebiscito.registraduria.gov.co/99PL/DP...  "
      ]
     },
     "execution_count": 12,
     "metadata": {},
     "output_type": "execute_result"
    }
   ],
   "source": [
    "# Let us see the result.\n",
    "towns.head()"
   ]
  },
  {
   "cell_type": "markdown",
   "metadata": {},
   "source": [
    "## Step 4: Get votes \n",
    "\n",
    "Now that we have access to each town website results, we are going to get the percentage of yes, no and null votes."
   ]
  },
  {
   "cell_type": "code",
   "execution_count": 13,
   "metadata": {
    "collapsed": true
   },
   "outputs": [],
   "source": [
    "# This function transform the vote string of the function below \n",
    "# in order to get an integer. \n",
    "\n",
    "# To understan the logic of this function you need to understand \n",
    "# the structure of the html code.\n",
    "\n",
    "def get_vote_int_from_string(vote_string, is_null_votes):\n",
    "    \n",
    "    if(is_null_votes):\n",
    "        num_v = vote_string.split(\"Votos nulos\")[1]\n",
    "    else:\n",
    "        num_v = vote_string.split(\"(\")[1].split( )[0]\n",
    "    \n",
    "    num = \"\".join(num_v.split(\".\")) \n",
    "    return int(num)\n",
    "    \n",
    "# This function gets the votation information.\n",
    "def get_votes(u):\n",
    "    s=get_soup(u)\n",
    "    \n",
    "    yes = s.find_all(\"div\", class_=\"skill-bar-percent\")[1].get_text()\n",
    "    no = s.find_all(\"div\", class_=\"skill-bar-percent\")[3].get_text()\n",
    "    null = s.find_all(\"div\", class_=\"cajaInfTercera\")[0].find_all(\"div\", class_=\"contenido\")[0].get_text()\n",
    "\n",
    "    votes = (get_vote_int_from_string(yes, False), \n",
    "             get_vote_int_from_string(no, False),\n",
    "             get_vote_int_from_string(null, True))\n",
    "    \n",
    "    return votes"
   ]
  },
  {
   "cell_type": "markdown",
   "metadata": {},
   "source": [
    "We create a new column in the towns DataFrame called *votes* which stores the information in a tuple."
   ]
  },
  {
   "cell_type": "code",
   "execution_count": 14,
   "metadata": {
    "collapsed": true
   },
   "outputs": [],
   "source": [
    "towns[\"votes\"]=towns[\"url\"].apply(lambda x : get_votes(x))"
   ]
  },
  {
   "cell_type": "code",
   "execution_count": 15,
   "metadata": {},
   "outputs": [
    {
     "data": {
      "text/html": [
       "<div>\n",
       "<style>\n",
       "    .dataframe thead tr:only-child th {\n",
       "        text-align: right;\n",
       "    }\n",
       "\n",
       "    .dataframe thead th {\n",
       "        text-align: left;\n",
       "    }\n",
       "\n",
       "    .dataframe tbody tr th {\n",
       "        vertical-align: top;\n",
       "    }\n",
       "</style>\n",
       "<table border=\"1\" class=\"dataframe\">\n",
       "  <thead>\n",
       "    <tr style=\"text-align: right;\">\n",
       "      <th></th>\n",
       "      <th>Department</th>\n",
       "      <th>Town</th>\n",
       "      <th>path</th>\n",
       "      <th>url</th>\n",
       "      <th>votes</th>\n",
       "    </tr>\n",
       "  </thead>\n",
       "  <tbody>\n",
       "    <tr>\n",
       "      <th>0</th>\n",
       "      <td>AMAZONAS</td>\n",
       "      <td>EL ENCANTO</td>\n",
       "      <td>../99PL/DPL60010ZZZZZZZZZZZZ_L1.htm</td>\n",
       "      <td>http://plebiscito.registraduria.gov.co/99PL/DP...</td>\n",
       "      <td>(170, 51, 2)</td>\n",
       "    </tr>\n",
       "    <tr>\n",
       "      <th>1</th>\n",
       "      <td>AMAZONAS</td>\n",
       "      <td>LA CHORRERA</td>\n",
       "      <td>../99PL/DPL60013ZZZZZZZZZZZZ_L1.htm</td>\n",
       "      <td>http://plebiscito.registraduria.gov.co/99PL/DP...</td>\n",
       "      <td>(300, 62, 3)</td>\n",
       "    </tr>\n",
       "    <tr>\n",
       "      <th>2</th>\n",
       "      <td>AMAZONAS</td>\n",
       "      <td>LA PEDRERA</td>\n",
       "      <td>../99PL/DPL60016ZZZZZZZZZZZZ_L1.htm</td>\n",
       "      <td>http://plebiscito.registraduria.gov.co/99PL/DP...</td>\n",
       "      <td>(189, 25, 1)</td>\n",
       "    </tr>\n",
       "    <tr>\n",
       "      <th>3</th>\n",
       "      <td>AMAZONAS</td>\n",
       "      <td>LA VICTORIA</td>\n",
       "      <td>../99PL/DPL60017ZZZZZZZZZZZZ_L1.htm</td>\n",
       "      <td>http://plebiscito.registraduria.gov.co/99PL/DP...</td>\n",
       "      <td>(4, 1, 0)</td>\n",
       "    </tr>\n",
       "    <tr>\n",
       "      <th>4</th>\n",
       "      <td>AMAZONAS</td>\n",
       "      <td>LETICIA</td>\n",
       "      <td>../99PL/DPL60001ZZZZZZZZZZZZ_L1.htm</td>\n",
       "      <td>http://plebiscito.registraduria.gov.co/99PL/DP...</td>\n",
       "      <td>(4403, 4463, 84)</td>\n",
       "    </tr>\n",
       "  </tbody>\n",
       "</table>\n",
       "</div>"
      ],
      "text/plain": [
       "  Department         Town                                 path  \\\n",
       "0   AMAZONAS   EL ENCANTO  ../99PL/DPL60010ZZZZZZZZZZZZ_L1.htm   \n",
       "1   AMAZONAS  LA CHORRERA  ../99PL/DPL60013ZZZZZZZZZZZZ_L1.htm   \n",
       "2   AMAZONAS   LA PEDRERA  ../99PL/DPL60016ZZZZZZZZZZZZ_L1.htm   \n",
       "3   AMAZONAS  LA VICTORIA  ../99PL/DPL60017ZZZZZZZZZZZZ_L1.htm   \n",
       "4   AMAZONAS      LETICIA  ../99PL/DPL60001ZZZZZZZZZZZZ_L1.htm   \n",
       "\n",
       "                                                 url             votes  \n",
       "0  http://plebiscito.registraduria.gov.co/99PL/DP...      (170, 51, 2)  \n",
       "1  http://plebiscito.registraduria.gov.co/99PL/DP...      (300, 62, 3)  \n",
       "2  http://plebiscito.registraduria.gov.co/99PL/DP...      (189, 25, 1)  \n",
       "3  http://plebiscito.registraduria.gov.co/99PL/DP...         (4, 1, 0)  \n",
       "4  http://plebiscito.registraduria.gov.co/99PL/DP...  (4403, 4463, 84)  "
      ]
     },
     "execution_count": 15,
     "metadata": {},
     "output_type": "execute_result"
    }
   ],
   "source": [
    "towns.head()"
   ]
  },
  {
   "cell_type": "markdown",
   "metadata": {},
   "source": [
    "Next we get the yes, no and null votes separately. We also compute the total of votes."
   ]
  },
  {
   "cell_type": "code",
   "execution_count": 16,
   "metadata": {
    "collapsed": true
   },
   "outputs": [],
   "source": [
    "# We get YES. \n",
    "towns[\"YES\"] = towns[\"votes\"].apply(lambda x : x[0])\n",
    "\n",
    "# We get NO. \n",
    "towns[\"NO\"] = towns[\"votes\"].apply(lambda x : x[1])\n",
    "\n",
    "# We get NULL. \n",
    "towns[\"NULL\"] = towns[\"votes\"].apply(lambda x : x[2])\n",
    "\n",
    "# We comute the total (sum). \n",
    "towns[\"TOTAL\"] = towns[\"votes\"].apply(lambda x : sum(x))"
   ]
  },
  {
   "cell_type": "code",
   "execution_count": 17,
   "metadata": {},
   "outputs": [
    {
     "data": {
      "text/html": [
       "<div>\n",
       "<style>\n",
       "    .dataframe thead tr:only-child th {\n",
       "        text-align: right;\n",
       "    }\n",
       "\n",
       "    .dataframe thead th {\n",
       "        text-align: left;\n",
       "    }\n",
       "\n",
       "    .dataframe tbody tr th {\n",
       "        vertical-align: top;\n",
       "    }\n",
       "</style>\n",
       "<table border=\"1\" class=\"dataframe\">\n",
       "  <thead>\n",
       "    <tr style=\"text-align: right;\">\n",
       "      <th></th>\n",
       "      <th>Department</th>\n",
       "      <th>Town</th>\n",
       "      <th>path</th>\n",
       "      <th>url</th>\n",
       "      <th>votes</th>\n",
       "      <th>YES</th>\n",
       "      <th>NO</th>\n",
       "      <th>NULL</th>\n",
       "      <th>TOTAL</th>\n",
       "    </tr>\n",
       "  </thead>\n",
       "  <tbody>\n",
       "    <tr>\n",
       "      <th>0</th>\n",
       "      <td>AMAZONAS</td>\n",
       "      <td>EL ENCANTO</td>\n",
       "      <td>../99PL/DPL60010ZZZZZZZZZZZZ_L1.htm</td>\n",
       "      <td>http://plebiscito.registraduria.gov.co/99PL/DP...</td>\n",
       "      <td>(170, 51, 2)</td>\n",
       "      <td>170</td>\n",
       "      <td>51</td>\n",
       "      <td>2</td>\n",
       "      <td>223</td>\n",
       "    </tr>\n",
       "    <tr>\n",
       "      <th>1</th>\n",
       "      <td>AMAZONAS</td>\n",
       "      <td>LA CHORRERA</td>\n",
       "      <td>../99PL/DPL60013ZZZZZZZZZZZZ_L1.htm</td>\n",
       "      <td>http://plebiscito.registraduria.gov.co/99PL/DP...</td>\n",
       "      <td>(300, 62, 3)</td>\n",
       "      <td>300</td>\n",
       "      <td>62</td>\n",
       "      <td>3</td>\n",
       "      <td>365</td>\n",
       "    </tr>\n",
       "    <tr>\n",
       "      <th>2</th>\n",
       "      <td>AMAZONAS</td>\n",
       "      <td>LA PEDRERA</td>\n",
       "      <td>../99PL/DPL60016ZZZZZZZZZZZZ_L1.htm</td>\n",
       "      <td>http://plebiscito.registraduria.gov.co/99PL/DP...</td>\n",
       "      <td>(189, 25, 1)</td>\n",
       "      <td>189</td>\n",
       "      <td>25</td>\n",
       "      <td>1</td>\n",
       "      <td>215</td>\n",
       "    </tr>\n",
       "    <tr>\n",
       "      <th>3</th>\n",
       "      <td>AMAZONAS</td>\n",
       "      <td>LA VICTORIA</td>\n",
       "      <td>../99PL/DPL60017ZZZZZZZZZZZZ_L1.htm</td>\n",
       "      <td>http://plebiscito.registraduria.gov.co/99PL/DP...</td>\n",
       "      <td>(4, 1, 0)</td>\n",
       "      <td>4</td>\n",
       "      <td>1</td>\n",
       "      <td>0</td>\n",
       "      <td>5</td>\n",
       "    </tr>\n",
       "    <tr>\n",
       "      <th>4</th>\n",
       "      <td>AMAZONAS</td>\n",
       "      <td>LETICIA</td>\n",
       "      <td>../99PL/DPL60001ZZZZZZZZZZZZ_L1.htm</td>\n",
       "      <td>http://plebiscito.registraduria.gov.co/99PL/DP...</td>\n",
       "      <td>(4403, 4463, 84)</td>\n",
       "      <td>4403</td>\n",
       "      <td>4463</td>\n",
       "      <td>84</td>\n",
       "      <td>8950</td>\n",
       "    </tr>\n",
       "  </tbody>\n",
       "</table>\n",
       "</div>"
      ],
      "text/plain": [
       "  Department         Town                                 path  \\\n",
       "0   AMAZONAS   EL ENCANTO  ../99PL/DPL60010ZZZZZZZZZZZZ_L1.htm   \n",
       "1   AMAZONAS  LA CHORRERA  ../99PL/DPL60013ZZZZZZZZZZZZ_L1.htm   \n",
       "2   AMAZONAS   LA PEDRERA  ../99PL/DPL60016ZZZZZZZZZZZZ_L1.htm   \n",
       "3   AMAZONAS  LA VICTORIA  ../99PL/DPL60017ZZZZZZZZZZZZ_L1.htm   \n",
       "4   AMAZONAS      LETICIA  ../99PL/DPL60001ZZZZZZZZZZZZ_L1.htm   \n",
       "\n",
       "                                                 url             votes   YES  \\\n",
       "0  http://plebiscito.registraduria.gov.co/99PL/DP...      (170, 51, 2)   170   \n",
       "1  http://plebiscito.registraduria.gov.co/99PL/DP...      (300, 62, 3)   300   \n",
       "2  http://plebiscito.registraduria.gov.co/99PL/DP...      (189, 25, 1)   189   \n",
       "3  http://plebiscito.registraduria.gov.co/99PL/DP...         (4, 1, 0)     4   \n",
       "4  http://plebiscito.registraduria.gov.co/99PL/DP...  (4403, 4463, 84)  4403   \n",
       "\n",
       "     NO  NULL  TOTAL  \n",
       "0    51     2    223  \n",
       "1    62     3    365  \n",
       "2    25     1    215  \n",
       "3     1     0      5  \n",
       "4  4463    84   8950  "
      ]
     },
     "execution_count": 17,
     "metadata": {},
     "output_type": "execute_result"
    }
   ],
   "source": [
    "# Let us see the final strcuture. \n",
    "towns.head()"
   ]
  },
  {
   "cell_type": "markdown",
   "metadata": {},
   "source": [
    "# Step 5: Export the data into a csv file"
   ]
  },
  {
   "cell_type": "markdown",
   "metadata": {},
   "source": [
    "We export the towns DataFrame into a .csv file with all the data. "
   ]
  },
  {
   "cell_type": "code",
   "execution_count": 18,
   "metadata": {
    "collapsed": true
   },
   "outputs": [],
   "source": [
    "columns_to_print = [\"Department\", \"Town\", \"YES\", \"NO\", \"NULL\", \"TOTAL\"]\n",
    "\n",
    "towns[columns_to_print].to_csv(\"resultados.csv\", index=False)"
   ]
  },
  {
   "cell_type": "markdown",
   "metadata": {},
   "source": [
    "# Step 6: Data Exploration\n",
    "\n",
    "Let us see how to begin a simple exploration of the data."
   ]
  },
  {
   "cell_type": "code",
   "execution_count": 19,
   "metadata": {},
   "outputs": [
    {
     "data": {
      "text/html": [
       "<div>\n",
       "<style>\n",
       "    .dataframe thead tr:only-child th {\n",
       "        text-align: right;\n",
       "    }\n",
       "\n",
       "    .dataframe thead th {\n",
       "        text-align: left;\n",
       "    }\n",
       "\n",
       "    .dataframe tbody tr th {\n",
       "        vertical-align: top;\n",
       "    }\n",
       "</style>\n",
       "<table border=\"1\" class=\"dataframe\">\n",
       "  <thead>\n",
       "    <tr style=\"text-align: right;\">\n",
       "      <th></th>\n",
       "      <th>Town</th>\n",
       "      <th>YES</th>\n",
       "      <th>NO</th>\n",
       "      <th>NULL</th>\n",
       "      <th>TOTAL</th>\n",
       "    </tr>\n",
       "    <tr>\n",
       "      <th>Department</th>\n",
       "      <th></th>\n",
       "      <th></th>\n",
       "      <th></th>\n",
       "      <th></th>\n",
       "      <th></th>\n",
       "    </tr>\n",
       "  </thead>\n",
       "  <tbody>\n",
       "    <tr>\n",
       "      <th>AMAZONAS</th>\n",
       "      <td>EL ENCANTO</td>\n",
       "      <td>170</td>\n",
       "      <td>51</td>\n",
       "      <td>2</td>\n",
       "      <td>223</td>\n",
       "    </tr>\n",
       "    <tr>\n",
       "      <th>AMAZONAS</th>\n",
       "      <td>LA CHORRERA</td>\n",
       "      <td>300</td>\n",
       "      <td>62</td>\n",
       "      <td>3</td>\n",
       "      <td>365</td>\n",
       "    </tr>\n",
       "    <tr>\n",
       "      <th>AMAZONAS</th>\n",
       "      <td>LA PEDRERA</td>\n",
       "      <td>189</td>\n",
       "      <td>25</td>\n",
       "      <td>1</td>\n",
       "      <td>215</td>\n",
       "    </tr>\n",
       "    <tr>\n",
       "      <th>AMAZONAS</th>\n",
       "      <td>LA VICTORIA</td>\n",
       "      <td>4</td>\n",
       "      <td>1</td>\n",
       "      <td>0</td>\n",
       "      <td>5</td>\n",
       "    </tr>\n",
       "    <tr>\n",
       "      <th>AMAZONAS</th>\n",
       "      <td>LETICIA</td>\n",
       "      <td>4403</td>\n",
       "      <td>4463</td>\n",
       "      <td>84</td>\n",
       "      <td>8950</td>\n",
       "    </tr>\n",
       "  </tbody>\n",
       "</table>\n",
       "</div>"
      ],
      "text/plain": [
       "                   Town   YES    NO  NULL  TOTAL\n",
       "Department                                      \n",
       "AMAZONAS     EL ENCANTO   170    51     2    223\n",
       "AMAZONAS    LA CHORRERA   300    62     3    365\n",
       "AMAZONAS     LA PEDRERA   189    25     1    215\n",
       "AMAZONAS    LA VICTORIA     4     1     0      5\n",
       "AMAZONAS        LETICIA  4403  4463    84   8950"
      ]
     },
     "execution_count": 19,
     "metadata": {},
     "output_type": "execute_result"
    }
   ],
   "source": [
    "data = pd.read_csv(\"resultados.csv\", index_col=\"Department\")\n",
    "\n",
    "data.head()"
   ]
  },
  {
   "cell_type": "markdown",
   "metadata": {},
   "source": [
    "In order to get information from each department we group the results by adding the total votes for each category."
   ]
  },
  {
   "cell_type": "code",
   "execution_count": 20,
   "metadata": {
    "collapsed": true
   },
   "outputs": [],
   "source": [
    "results_departments = data.groupby(data.index).sum()"
   ]
  },
  {
   "cell_type": "markdown",
   "metadata": {},
   "source": [
    "Now we compute basic ratios of the results."
   ]
  },
  {
   "cell_type": "code",
   "execution_count": 21,
   "metadata": {},
   "outputs": [
    {
     "data": {
      "text/html": [
       "<div>\n",
       "<style>\n",
       "    .dataframe thead tr:only-child th {\n",
       "        text-align: right;\n",
       "    }\n",
       "\n",
       "    .dataframe thead th {\n",
       "        text-align: left;\n",
       "    }\n",
       "\n",
       "    .dataframe tbody tr th {\n",
       "        vertical-align: top;\n",
       "    }\n",
       "</style>\n",
       "<table border=\"1\" class=\"dataframe\">\n",
       "  <thead>\n",
       "    <tr style=\"text-align: right;\">\n",
       "      <th></th>\n",
       "      <th>YES</th>\n",
       "      <th>NO</th>\n",
       "      <th>NULL</th>\n",
       "      <th>TOTAL</th>\n",
       "      <th>YES/TOTAL</th>\n",
       "      <th>NO/TOTAL</th>\n",
       "    </tr>\n",
       "    <tr>\n",
       "      <th>Department</th>\n",
       "      <th></th>\n",
       "      <th></th>\n",
       "      <th></th>\n",
       "      <th></th>\n",
       "      <th></th>\n",
       "      <th></th>\n",
       "    </tr>\n",
       "  </thead>\n",
       "  <tbody>\n",
       "    <tr>\n",
       "      <th>AMAZONAS</th>\n",
       "      <td>6524</td>\n",
       "      <td>4994</td>\n",
       "      <td>114</td>\n",
       "      <td>11632</td>\n",
       "      <td>0.560867</td>\n",
       "      <td>0.429333</td>\n",
       "    </tr>\n",
       "    <tr>\n",
       "      <th>ANTIOQUIA</th>\n",
       "      <td>648051</td>\n",
       "      <td>1057518</td>\n",
       "      <td>22416</td>\n",
       "      <td>1727985</td>\n",
       "      <td>0.375033</td>\n",
       "      <td>0.611995</td>\n",
       "    </tr>\n",
       "    <tr>\n",
       "      <th>ARAUCA</th>\n",
       "      <td>28653</td>\n",
       "      <td>30274</td>\n",
       "      <td>1523</td>\n",
       "      <td>60450</td>\n",
       "      <td>0.473995</td>\n",
       "      <td>0.500811</td>\n",
       "    </tr>\n",
       "    <tr>\n",
       "      <th>ATLANTICO</th>\n",
       "      <td>258121</td>\n",
       "      <td>168300</td>\n",
       "      <td>2132</td>\n",
       "      <td>428553</td>\n",
       "      <td>0.602308</td>\n",
       "      <td>0.392717</td>\n",
       "    </tr>\n",
       "    <tr>\n",
       "      <th>BOGOTA D.C.</th>\n",
       "      <td>1423612</td>\n",
       "      <td>1114933</td>\n",
       "      <td>25213</td>\n",
       "      <td>2563758</td>\n",
       "      <td>0.555283</td>\n",
       "      <td>0.434882</td>\n",
       "    </tr>\n",
       "  </tbody>\n",
       "</table>\n",
       "</div>"
      ],
      "text/plain": [
       "                 YES       NO   NULL    TOTAL  YES/TOTAL  NO/TOTAL\n",
       "Department                                                        \n",
       "AMAZONAS        6524     4994    114    11632   0.560867  0.429333\n",
       "ANTIOQUIA     648051  1057518  22416  1727985   0.375033  0.611995\n",
       "ARAUCA         28653    30274   1523    60450   0.473995  0.500811\n",
       "ATLANTICO     258121   168300   2132   428553   0.602308  0.392717\n",
       "BOGOTA D.C.  1423612  1114933  25213  2563758   0.555283  0.434882"
      ]
     },
     "execution_count": 21,
     "metadata": {},
     "output_type": "execute_result"
    }
   ],
   "source": [
    "results_departments[\"YES/TOTAL\"] = results_departments[\"YES\"]/results_departments[\"TOTAL\"]\n",
    "results_departments[\"NO/TOTAL\"] = results_departments[\"NO\"]/results_departments[\"TOTAL\"]\n",
    "\n",
    "results_departments.head()"
   ]
  },
  {
   "cell_type": "markdown",
   "metadata": {},
   "source": [
    "### Visualization\n",
    "\n",
    "Here we plot the `YES/TOTAL` ratio for all the departments.\n"
   ]
  },
  {
   "cell_type": "code",
   "execution_count": 22,
   "metadata": {},
   "outputs": [
    {
     "data": {
      "text/plain": [
       "(array([ 0,  1,  2,  3,  4,  5,  6,  7,  8,  9, 10, 11, 12, 13, 14, 15, 16,\n",
       "        17, 18, 19, 20, 21, 22, 23, 24, 25, 26, 27, 28, 29, 30, 31, 32, 33]),\n",
       " <a list of 34 Text xticklabel objects>)"
      ]
     },
     "execution_count": 22,
     "metadata": {},
     "output_type": "execute_result"
    },
    {
     "data": {
      "image/png": "[encoded data removed]",
      "text/plain": [
       "<matplotlib.figure.Figure at 0x10fc3fba8>"
      ]
     },
     "metadata": {},
     "output_type": "display_data"
    }
   ],
   "source": [
    "import matplotlib as plt\n",
    "import seaborn as sns\n",
    "%matplotlib inline\n",
    "\n",
    "results_departments.plot(y=\"YES/TOTAL\",\n",
    "                         kind='bar',\n",
    "                         stacked=True,\n",
    "                         title=\"YES/TOTAL per Department\",\n",
    "                         ylim=(0,1.0),\n",
    "                         figsize=(12,12))\n",
    "plt.pyplot.xticks(rotation=90)"
   ]
  },
  {
   "cell_type": "markdown",
   "metadata": {},
   "source": [
    "Here we plot the `TOTAL` votation for all the departments."
   ]
  },
  {
   "cell_type": "code",
   "execution_count": 23,
   "metadata": {},
   "outputs": [
    {
     "data": {
      "text/plain": [
       "(array([ 0,  1,  2,  3,  4,  5,  6,  7,  8,  9, 10, 11, 12, 13, 14, 15, 16,\n",
       "        17, 18, 19, 20, 21, 22, 23, 24, 25, 26, 27, 28, 29, 30, 31, 32, 33]),\n",
       " <a list of 34 Text xticklabel objects>)"
      ]
     },
     "execution_count": 23,
     "metadata": {},
     "output_type": "execute_result"
    },
    {
     "data": {
      "image/png": "[encoded data removed]",
      "text/plain": [
       "<matplotlib.figure.Figure at 0x112227438>"
      ]
     },
     "metadata": {},
     "output_type": "display_data"
    }
   ],
   "source": [
    "results_departments.plot(y=\"TOTAL\", \n",
    "                         kind='bar',\n",
    "                         title=\"Total Votes per Department\",\n",
    "                         figsize=(12,12))\n",
    "plt.pyplot.xticks(rotation=90)"
   ]
  },
  {
   "cell_type": "markdown",
   "metadata": {},
   "source": [
    "Now we want to get information within each department."
   ]
  },
  {
   "cell_type": "code",
   "execution_count": 24,
   "metadata": {},
   "outputs": [
    {
     "data": {
      "text/html": [
       "<div>\n",
       "<style>\n",
       "    .dataframe thead tr:only-child th {\n",
       "        text-align: right;\n",
       "    }\n",
       "\n",
       "    .dataframe thead th {\n",
       "        text-align: left;\n",
       "    }\n",
       "\n",
       "    .dataframe tbody tr th {\n",
       "        vertical-align: top;\n",
       "    }\n",
       "</style>\n",
       "<table border=\"1\" class=\"dataframe\">\n",
       "  <thead>\n",
       "    <tr style=\"text-align: right;\">\n",
       "      <th></th>\n",
       "      <th>Town</th>\n",
       "      <th>YES</th>\n",
       "      <th>NO</th>\n",
       "      <th>NULL</th>\n",
       "      <th>TOTAL</th>\n",
       "      <th>YES/TOTAL</th>\n",
       "      <th>NO/TOTAL</th>\n",
       "    </tr>\n",
       "    <tr>\n",
       "      <th>Department</th>\n",
       "      <th></th>\n",
       "      <th></th>\n",
       "      <th></th>\n",
       "      <th></th>\n",
       "      <th></th>\n",
       "      <th></th>\n",
       "      <th></th>\n",
       "    </tr>\n",
       "  </thead>\n",
       "  <tbody>\n",
       "    <tr>\n",
       "      <th>AMAZONAS</th>\n",
       "      <td>EL ENCANTO</td>\n",
       "      <td>170</td>\n",
       "      <td>51</td>\n",
       "      <td>2</td>\n",
       "      <td>223</td>\n",
       "      <td>0.762332</td>\n",
       "      <td>0.228700</td>\n",
       "    </tr>\n",
       "    <tr>\n",
       "      <th>AMAZONAS</th>\n",
       "      <td>LA CHORRERA</td>\n",
       "      <td>300</td>\n",
       "      <td>62</td>\n",
       "      <td>3</td>\n",
       "      <td>365</td>\n",
       "      <td>0.821918</td>\n",
       "      <td>0.169863</td>\n",
       "    </tr>\n",
       "    <tr>\n",
       "      <th>AMAZONAS</th>\n",
       "      <td>LA PEDRERA</td>\n",
       "      <td>189</td>\n",
       "      <td>25</td>\n",
       "      <td>1</td>\n",
       "      <td>215</td>\n",
       "      <td>0.879070</td>\n",
       "      <td>0.116279</td>\n",
       "    </tr>\n",
       "    <tr>\n",
       "      <th>AMAZONAS</th>\n",
       "      <td>LA VICTORIA</td>\n",
       "      <td>4</td>\n",
       "      <td>1</td>\n",
       "      <td>0</td>\n",
       "      <td>5</td>\n",
       "      <td>0.800000</td>\n",
       "      <td>0.200000</td>\n",
       "    </tr>\n",
       "    <tr>\n",
       "      <th>AMAZONAS</th>\n",
       "      <td>LETICIA</td>\n",
       "      <td>4403</td>\n",
       "      <td>4463</td>\n",
       "      <td>84</td>\n",
       "      <td>8950</td>\n",
       "      <td>0.491955</td>\n",
       "      <td>0.498659</td>\n",
       "    </tr>\n",
       "  </tbody>\n",
       "</table>\n",
       "</div>"
      ],
      "text/plain": [
       "                   Town   YES    NO  NULL  TOTAL  YES/TOTAL  NO/TOTAL\n",
       "Department                                                           \n",
       "AMAZONAS     EL ENCANTO   170    51     2    223   0.762332  0.228700\n",
       "AMAZONAS    LA CHORRERA   300    62     3    365   0.821918  0.169863\n",
       "AMAZONAS     LA PEDRERA   189    25     1    215   0.879070  0.116279\n",
       "AMAZONAS    LA VICTORIA     4     1     0      5   0.800000  0.200000\n",
       "AMAZONAS        LETICIA  4403  4463    84   8950   0.491955  0.498659"
      ]
     },
     "execution_count": 24,
     "metadata": {},
     "output_type": "execute_result"
    }
   ],
   "source": [
    "results_towns = data.copy()\n",
    "\n",
    "results_towns[\"YES/TOTAL\"]=results_towns[\"YES\"]/results_towns[\"TOTAL\"]\n",
    "results_towns[\"NO/TOTAL\"]=results_towns[\"NO\"]/results_towns[\"TOTAL\"]\n",
    "\n",
    "results_towns.head()"
   ]
  },
  {
   "cell_type": "markdown",
   "metadata": {},
   "source": [
    "Here we plot the `YES/TOTAL` ratio for the deparment `CHOCO`."
   ]
  },
  {
   "cell_type": "code",
   "execution_count": 25,
   "metadata": {},
   "outputs": [
    {
     "data": {
      "text/plain": [
       "<matplotlib.axes._subplots.AxesSubplot at 0x11284bf28>"
      ]
     },
     "execution_count": 25,
     "metadata": {},
     "output_type": "execute_result"
    },
    {
     "data": {
      "image/png": "[encoded data removed]",
      "text/plain": [
       "<matplotlib.figure.Figure at 0x1121d1320>"
      ]
     },
     "metadata": {},
     "output_type": "display_data"
    }
   ],
   "source": [
    "results_towns[results_towns.index==\"CHOCO\"].plot(x=\"Town\", y=\"YES/TOTAL\",\n",
    "                                                  kind='bar', \n",
    "                                                  title=\"YES/TOTAL for CHOCO\",\n",
    "                                                  figsize=(12,12),\n",
    "                                                  ylim=(0,1.0))"
   ]
  },
  {
   "cell_type": "markdown",
   "metadata": {},
   "source": [
    "Here we plot the `YES/TOTAL` ratio for the deparment `CHOCO`."
   ]
  },
  {
   "cell_type": "code",
   "execution_count": 26,
   "metadata": {},
   "outputs": [
    {
     "data": {
      "text/plain": [
       "<matplotlib.axes._subplots.AxesSubplot at 0x112b87668>"
      ]
     },
     "execution_count": 26,
     "metadata": {},
     "output_type": "execute_result"
    },
    {
     "data": {
      "image/png": "[encoded data removed]",
      "text/plain": [
       "<matplotlib.figure.Figure at 0x11283f400>"
      ]
     },
     "metadata": {},
     "output_type": "display_data"
    }
   ],
   "source": [
    "results_towns[results_towns.index==\"CALDAS\"].plot(x=\"Town\", y=\"YES/TOTAL\",\n",
    "                                                  kind='bar', \n",
    "                                                  title=\"YES/TOTAL for CALDAS\",\n",
    "                                                  figsize=(12,12),\n",
    "                                                  ylim=(0,1.0))"
   ]
  },
  {
   "cell_type": "markdown",
   "metadata": {},
   "source": [
    "As mentioned in the introduction, now that the data is available it is necessary to make a detailed and structured study of these results. For example, mapping these results to education level, precense of the guerrilla, etc. Of course, this is something which, for now, is beyond the scope of this post. "
   ]
  }
 ],
 "metadata": {
  "anaconda-cloud": {},
  "kernelspec": {
   "display_name": "Python [conda root]",
   "language": "python",
   "name": "conda-root-py"
  },
  "language_info": {
   "codemirror_mode": {
    "name": "ipython",
    "version": 3
   },
   "file_extension": ".py",
   "mimetype": "text/x-python",
   "name": "python",
   "nbconvert_exporter": "python",
   "pygments_lexer": "ipython3",
   "version": "3.5.3"
  }
 },
 "nbformat": 4,
 "nbformat_minor": 1
}
